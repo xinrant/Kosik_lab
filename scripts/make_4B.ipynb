{
    "cells": [
        {
            "cell_type": "markdown",
            "source": [
                "Make a figure to see if the experiment worked and if the guide RNAs worked.\n",
                "Separate the cells based on the guide RNA used. For the experimental set, check the expression\n",
                "level of that RNA in the cells. Compare it to the control."
            ],
            "metadata": {}
        },
        {
            "cell_type": "code",
            "execution_count": 4,
            "source": [
                "# Load in libraries\n",
                "from collections import Counter\n",
                "import numpy as np\n",
                "import pandas as pd\n",
                "import matplotlib.pyplot as plt"
            ],
            "outputs": [],
            "metadata": {}
        },
        {
            "cell_type": "code",
            "execution_count": 3,
            "source": [
                "# Load in the data matrix and metadata matrix\n",
                "data_file = '/home/ada/Desktop/Kosik_lab/data/ctrl_noTau_1_mapped.csv'\n",
                "metadata_file = '/home/ada/Desktop/Kosik_lab/data/c1_meta.txt'\n",
                "\n",
                "data = pd.read_csv(data_file, index_col=0)   # 17205 rows x 809 columns\n",
                "\n",
                "genes = data.index.values.tolist()   # names of the genes (17205)\n",
                "cells = data.columns.tolist()        # names of the cells (800)\n",
                "\n",
                "metadata = pd.read_csv(metadata_file, sep=' ')\n",
                "# Metadata: [sampleName, cellNum, sgRNA, targetGene, pathway, cellBarcode]"
            ],
            "outputs": [],
            "metadata": {}
        },
        {
            "cell_type": "markdown",
            "source": [
                "Let's explore the data a bit. First, check first 5 most used guide RNA targets."
            ],
            "metadata": {}
        },
        {
            "cell_type": "code",
            "execution_count": 5,
            "source": [
                "targets = metadata.targetGene.tolist()\n",
                "target_counts = Counter(targets)\n",
                "print(target_counts)"
            ],
            "outputs": [
                {
                    "output_type": "stream",
                    "name": "stdout",
                    "text": [
                        "Counter({'C12orf44': 92, 'ATG13': 70, 'PSME1': 60, 'ULK1': 57, 'PIK3C3': 57, 'UBE3C': 51, 'Non-targeting': 49, 'RAB7A': 49, 'ATG3': 48, 'PSMD14': 47, 'ATG16L1': 47, 'ATG5': 41, 'PSMD9': 37, 'ATG9A': 36, 'ATG7': 29, 'PSMD2': 9, 'UCHL1': 6, 'PSMD4': 5, 'PSMA6': 4, 'PSMD11': 4, 'PSMC2': 4, 'CTSD': 2, 'GABARAP': 1, 'RB1CC1': 1, 'UBR1': 1, 'ADRM1': 1, 'ATG12': 1})\n"
                    ]
                }
            ],
            "metadata": {}
        },
        {
            "cell_type": "markdown",
            "source": [
                "Let's focus on ATG13 for now since there's the most cells with this target gene.\n",
                "(Can expand later to other targets) (C12orf44 not in the data table)"
            ],
            "metadata": {}
        },
        {
            "cell_type": "code",
            "execution_count": 13,
            "source": [
                "target = 'ATG13'\n",
                "# get the names of the cells that have this target in metadata\n",
                "\n",
                "cell_names = metadata.index[metadata.targetGene == target].tolist()\n",
                "print(len(cell_names))\n",
                "print(cell_names)"
            ],
            "outputs": [
                {
                    "output_type": "stream",
                    "name": "stdout",
                    "text": [
                        "70\n",
                        "['ctrl_noTau_1-2', 'ctrl_noTau_1-27', 'ctrl_noTau_1-59', 'ctrl_noTau_1-60', 'ctrl_noTau_1-70', 'ctrl_noTau_1-114', 'ctrl_noTau_1-138', 'ctrl_noTau_1-146', 'ctrl_noTau_1-147', 'ctrl_noTau_1-153', 'ctrl_noTau_1-154', 'ctrl_noTau_1-156', 'ctrl_noTau_1-159', 'ctrl_noTau_1-175', 'ctrl_noTau_1-177', 'ctrl_noTau_1-186', 'ctrl_noTau_1-187', 'ctrl_noTau_1-190', 'ctrl_noTau_1-198', 'ctrl_noTau_1-209', 'ctrl_noTau_1-228', 'ctrl_noTau_1-268', 'ctrl_noTau_1-286', 'ctrl_noTau_1-309', 'ctrl_noTau_1-319', 'ctrl_noTau_1-322', 'ctrl_noTau_1-331', 'ctrl_noTau_1-342', 'ctrl_noTau_1-351', 'ctrl_noTau_1-362', 'ctrl_noTau_1-364', 'ctrl_noTau_1-371', 'ctrl_noTau_1-385', 'ctrl_noTau_1-409', 'ctrl_noTau_1-414', 'ctrl_noTau_1-431', 'ctrl_noTau_1-435', 'ctrl_noTau_1-442', 'ctrl_noTau_1-444', 'ctrl_noTau_1-464', 'ctrl_noTau_1-496', 'ctrl_noTau_1-505', 'ctrl_noTau_1-510', 'ctrl_noTau_1-511', 'ctrl_noTau_1-514', 'ctrl_noTau_1-520', 'ctrl_noTau_1-535', 'ctrl_noTau_1-538', 'ctrl_noTau_1-550', 'ctrl_noTau_1-560', 'ctrl_noTau_1-587', 'ctrl_noTau_1-599', 'ctrl_noTau_1-605', 'ctrl_noTau_1-609', 'ctrl_noTau_1-636', 'ctrl_noTau_1-642', 'ctrl_noTau_1-645', 'ctrl_noTau_1-649', 'ctrl_noTau_1-666', 'ctrl_noTau_1-677', 'ctrl_noTau_1-679', 'ctrl_noTau_1-680', 'ctrl_noTau_1-682', 'ctrl_noTau_1-723', 'ctrl_noTau_1-746', 'ctrl_noTau_1-747', 'ctrl_noTau_1-762', 'ctrl_noTau_1-769', 'ctrl_noTau_1-779', 'ctrl_noTau_1-780']\n"
                    ]
                }
            ],
            "metadata": {}
        },
        {
            "cell_type": "markdown",
            "source": [
                "Number of cells checks out. Now, filter the cells in the actual data matrix. Get only the counts for \n",
                "our target gene.\n"
            ],
            "metadata": {}
        },
        {
            "cell_type": "code",
            "execution_count": 20,
            "source": [
                "# Is the target gene in the data table?\n",
                "if target not in genes:\n",
                "    print('something went wrong')\n",
                "else:\n",
                "    print(len(data.loc[target, cell_names]))\n",
                "    target_subset = np.array(data.loc[target, cell_names])\n",
                "    print(target_subset)"
            ],
            "outputs": [
                {
                    "output_type": "stream",
                    "name": "stdout",
                    "text": [
                        "70\n",
                        "[0 0 0 0 0 0 0 0 0 0 0 0 0 1 0 0 0 0 0 0 0 1 0 0 0 0 0 0 0 0 0 0 0 0 0 0 0\n",
                        " 0 0 0 0 0 0 0 0 0 0 0 0 0 0 0 0 0 0 0 0 0 0 0 0 0 0 0 0 1 0 0 0 0]\n"
                    ]
                }
            ],
            "metadata": {}
        },
        {
            "cell_type": "markdown",
            "source": [
                "Calculate the mean expression value for the target gene"
            ],
            "metadata": {}
        },
        {
            "cell_type": "code",
            "execution_count": null,
            "source": [
                "np.mean(target_subset)"
            ],
            "outputs": [],
            "metadata": {}
        }
    ],
    "metadata": {
        "orig_nbformat": 4,
        "language_info": {
            "name": "python",
            "version": "3.8.5",
            "mimetype": "text/x-python",
            "codemirror_mode": {
                "name": "ipython",
                "version": 3
            },
            "pygments_lexer": "ipython3",
            "nbconvert_exporter": "python",
            "file_extension": ".py"
        },
        "kernelspec": {
            "name": "python3",
            "display_name": "Python 3.8.5 64-bit ('base': conda)"
        },
        "interpreter": {
            "hash": "374c2088c08c4281d87d0abcdd19d1d5d726e90006cfa7a3021cc5fe412ea757"
        }
    },
    "nbformat": 4,
    "nbformat_minor": 2
}